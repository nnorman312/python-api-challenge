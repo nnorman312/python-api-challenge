{
 "cells": [
  {
   "cell_type": "code",
   "execution_count": 12,
   "metadata": {},
   "outputs": [],
   "source": [
    "# Dependencies and Setup\n",
    "\n",
    "import matplotlib.pyplot as plt\n",
    "import pandas as pd\n",
    "import numpy as np\n",
    "import requests\n",
    "import datetime\n",
    "from scipy.stats import linregress\n",
    "\n",
    "# Import API key\n",
    "from api_keys import weather_api_key\n",
    "\n",
    "# Output File (CSV)\n",
    "output_data_file = \"output_data/cities.csv\"\n",
    "\n",
    "# Incorporated citipy to determine city based on latitude and longitude\n",
    "from citipy import citipy\n",
    "\n",
    "# Range of latitudes and longitudes\n",
    "lat_range = (-90, 90)\n",
    "lng_range = (-180, 180)"
   ]
  },
  {
   "cell_type": "code",
   "execution_count": 1,
   "metadata": {},
   "outputs": [
    {
     "name": "stdout",
     "output_type": "stream",
     "text": [
      "1. Based on the scatterplot data below, as latitude increases, max temperature decreases. This is true. At higher latitudes, the angle of solar radiation is smaller. As a result, this causes energy to be spread over a larger area of the surface and thus there are cooler temperatures.\n",
      "2. Based on the scatterplot data below, there is high humidity at the equator (latitude 0). This is true. Since warm air can hold more moisture than cool air, locations with warm climates, such as near the equator, generally have higher humidity than locations with cooler climates.\n",
      "3. Based on the scatterplot data below, most cities have wind speeds under 30 mph. This makes sense as daily wind speeds typically average between 6 and 12 mph, and winds are considered strong if they are over 40 mph.\n"
     ]
    }
   ],
   "source": [
    "# Three observable trends\n",
    "\n",
    "print(\"1. Based on the scatterplot data below, as latitude increases, max temperature decreases. This is true. At higher latitudes, the angle of solar radiation is smaller. As a result, this causes energy to be spread over a larger area of the surface and thus there are cooler temperatures.\")\n",
    "print(\"2. Based on the scatterplot data below, there is high humidity at the equator (latitude 0). This is true. Since warm air can hold more moisture than cool air, locations with warm climates, such as near the equator, generally have higher humidity than locations with cooler climates.\")\n",
    "print(\"3. Based on the scatterplot data below, most cities have wind speeds under 30 mph. This makes sense as daily wind speeds typically average between 6 and 12 mph, and winds are considered strong if they are over 40 mph.\")"
   ]
  },
  {
   "cell_type": "code",
   "execution_count": 13,
   "metadata": {},
   "outputs": [
    {
     "data": {
      "text/plain": [
       "627"
      ]
     },
     "execution_count": 13,
     "metadata": {},
     "output_type": "execute_result"
    }
   ],
   "source": [
    "# List for holding lat_lngs and cities\n",
    "\n",
    "lat_lngs = []\n",
    "cities = []\n",
    "\n",
    "# Create a set of random lat and lng combinations\n",
    "lats = np.random.uniform(low=-90.000, high=90.000, size=1500)\n",
    "lngs = np.random.uniform(low=-180.000, high=180.000, size=1500)\n",
    "lat_lngs = zip(lats, lngs)\n",
    "\n",
    "# Identify nearest city for each lat, lng combination\n",
    "for lat_lng in lat_lngs:\n",
    "    city = citipy.nearest_city(lat_lng[0], lat_lng[1]).city_name\n",
    "    \n",
    "    # If the city is unique, then add it to a our cities list\n",
    "    if city not in cities:\n",
    "        cities.append(city)\n",
    "\n",
    "# Print the city count to confirm sufficient count\n",
    "len(cities)"
   ]
  },
  {
   "cell_type": "code",
   "execution_count": 14,
   "metadata": {},
   "outputs": [],
   "source": [
    "# Perform API Calls\n",
    "# Perform a weather check on each city using a series of successive API calls.\n",
    "# Include a print log of each city as it's being processed (with the city number and city name).\n",
    "\n",
    "url = \"http://api.openweathermap.org/data/2.5/forecast?id=524901&APPID=\"\n",
    "target_url = url + weather_api_key\n",
    "target_url\n",
    "\n",
    "cityname = []\n",
    "cloudiness = []\n",
    "country = []\n",
    "date = []\n",
    "humidity = []\n",
    "lat = []\n",
    "lng = []\n",
    "max_temp = []\n",
    "wind_speed = []\n",
    "count = 0"
   ]
  },
  {
   "cell_type": "code",
   "execution_count": 15,
   "metadata": {
    "scrolled": false
   },
   "outputs": [
    {
     "name": "stdout",
     "output_type": "stream",
     "text": [
      "Processing record 1 | ushuaia\n",
      "Processing record 2 | butaritari\n",
      "Processing record 3 | praia\n",
      "Processing record 4 | puerto del rosario\n",
      "Processing record 5 | avarua\n",
      "Processing record 6 | bozeman\n",
      "Processing record 7 | tasiilaq\n",
      "Processing record 8 | lavrentiya\n",
      "Processing record 9 | victoria\n",
      "Processing record 10 | mataura\n",
      "Processing record 11 | hermanus\n",
      "Processing record 12 | lagoa\n",
      "Processing record 13 | necochea\n",
      "Processing record 14 | klaksvik\n",
      "Processing record 15 | carnarvon\n",
      "Processing record 16 | nouadhibou\n",
      "Processing record 17 | paamiut\n",
      "Processing record 18 | rikitea\n",
      "Processing record 19 | rawson\n",
      "Processing record 20 | port alfred\n",
      "Processing record 21 | alice springs\n",
      "Processing record 22 | punta arenas\n",
      "Processing record 23 | ribeira grande\n",
      "Processing record 24 | babol\n",
      "Processing record 25 | darnah\n",
      "Processing record 26 | aracataca\n",
      "Processing record 27 | saint-augustin\n",
      "Processing record 28 | sao filipe\n",
      "Processing record 29 | aklavik\n",
      "Record not found\n",
      "Record not found\n",
      "Processing record 30 | saskylakh\n",
      "Processing record 31 | khatanga\n",
      "Processing record 32 | bluff\n",
      "Processing record 33 | chapleau\n",
      "Processing record 34 | hobart\n",
      "Processing record 35 | leshukonskoye\n",
      "Processing record 36 | grindavik\n",
      "Processing record 37 | marystown\n",
      "Processing record 38 | shelopugino\n",
      "Processing record 39 | castro\n",
      "Processing record 40 | bengkulu\n",
      "Processing record 41 | itoman\n",
      "Processing record 42 | praia da vitoria\n",
      "Processing record 43 | russell\n",
      "Processing record 44 | samarai\n",
      "Record not found\n",
      "Processing record 45 | bredasdorp\n",
      "Processing record 46 | albany\n",
      "Processing record 47 | inhambane\n",
      "Processing record 48 | mmabatho\n",
      "Processing record 49 | vaini\n",
      "Processing record 50 | tuktoyaktuk\n",
      "Processing record 51 | mahebourg\n",
      "Processing record 52 | eureka\n",
      "Processing record 53 | ponta do sol\n",
      "Record not found\n",
      "Processing record 54 | sivaki\n",
      "Processing record 55 | radnevo\n",
      "Processing record 56 | karpogory\n",
      "Processing record 57 | bentiu\n",
      "Processing record 58 | zhigansk\n",
      "Processing record 59 | quatre cocos\n",
      "Processing record 60 | ancud\n",
      "Record not found\n",
      "Processing record 61 | sola\n",
      "Processing record 62 | pangnirtung\n",
      "Processing record 63 | loyga\n",
      "Processing record 64 | kruisfontein\n",
      "Processing record 65 | sorland\n",
      "Record not found\n",
      "Processing record 66 | marfino\n",
      "Processing record 67 | rio grande\n",
      "Processing record 68 | san rafael\n",
      "Processing record 69 | severo-kurilsk\n",
      "Processing record 70 | lebu\n",
      "Processing record 71 | villacarrillo\n",
      "Processing record 72 | port augusta\n",
      "Processing record 73 | petranka\n",
      "Processing record 74 | faanui\n",
      "Processing record 75 | erenhot\n",
      "Processing record 76 | lerwick\n",
      "Processing record 77 | jamestown\n",
      "Processing record 78 | busselton\n",
      "Processing record 79 | souillac\n",
      "Processing record 80 | dikson\n",
      "Record not found\n",
      "Processing record 81 | porto nacional\n",
      "Processing record 82 | cerkezkoy\n",
      "Processing record 83 | pevek\n",
      "Processing record 84 | cape town\n",
      "Processing record 85 | thompson\n",
      "Processing record 86 | singkang\n",
      "Processing record 87 | mezen\n",
      "Processing record 88 | la ronge\n",
      "Record not found\n",
      "Processing record 89 | iranshahr\n",
      "Processing record 90 | nikolskoye\n",
      "Processing record 91 | koslan\n",
      "Processing record 92 | kachug\n",
      "Record not found\n",
      "Processing record 93 | westerland\n",
      "Processing record 94 | san patricio\n",
      "Record not found\n",
      "Processing record 95 | acaponeta\n",
      "Processing record 96 | talnakh\n",
      "Processing record 97 | tarauaca\n",
      "Processing record 98 | zumarraga\n",
      "Processing record 99 | havelock\n",
      "Processing record 100 | yellowknife\n",
      "Processing record 101 | hirado\n",
      "Processing record 102 | padang\n",
      "Processing record 103 | port-cartier\n",
      "Processing record 104 | kapaa\n",
      "Processing record 105 | tiksi\n",
      "Processing record 106 | vardo\n",
      "Processing record 107 | taybad\n",
      "Processing record 108 | katobu\n",
      "Record not found\n",
      "Processing record 109 | harper\n",
      "Record not found\n",
      "Processing record 110 | puerto ayora\n",
      "Processing record 111 | muana\n",
      "Processing record 112 | chuy\n",
      "Processing record 113 | pimentel\n",
      "Processing record 114 | kupang\n",
      "Processing record 115 | narrabri\n",
      "Processing record 116 | dingle\n",
      "Processing record 117 | airai\n",
      "Processing record 118 | byron bay\n",
      "Processing record 119 | chokurdakh\n",
      "Processing record 120 | svetlaya\n",
      "Processing record 121 | bethel\n",
      "Processing record 122 | husavik\n",
      "Processing record 123 | isangel\n",
      "Processing record 124 | port elizabeth\n",
      "Processing record 125 | cidreira\n",
      "Processing record 126 | talant\n",
      "Processing record 127 | parkes\n",
      "Processing record 128 | salisbury\n",
      "Processing record 129 | provideniya\n",
      "Processing record 130 | hervey bay\n",
      "Processing record 131 | caravelas\n",
      "Processing record 132 | filingue\n",
      "Processing record 133 | maragogi\n",
      "Processing record 134 | bambous virieux\n",
      "Processing record 135 | brae\n",
      "Record not found\n",
      "Processing record 136 | karratha\n",
      "Processing record 137 | cherskiy\n",
      "Processing record 138 | mastic beach\n",
      "Processing record 139 | arraial do cabo\n",
      "Processing record 140 | toccoa\n",
      "Record not found\n",
      "Record not found\n",
      "Processing record 141 | biak\n",
      "Record not found\n",
      "Processing record 142 | tual\n",
      "Processing record 143 | soe\n",
      "Processing record 144 | longyearbyen\n",
      "Processing record 145 | smolenka\n",
      "Processing record 146 | saldanha\n",
      "Processing record 147 | kodiak\n",
      "Processing record 148 | aykhal\n",
      "Processing record 149 | dergaon\n",
      "Record not found\n",
      "Processing record 150 | riberalta\n",
      "Processing record 151 | araouane\n",
      "Processing record 152 | norman wells\n",
      "Processing record 153 | newport\n",
      "Processing record 154 | cabo san lucas\n",
      "Processing record 155 | georgetown\n",
      "Processing record 156 | riverton\n",
      "Processing record 157 | sao joao da barra\n",
      "Processing record 158 | hailar\n",
      "Processing record 159 | the valley\n",
      "Processing record 160 | sonda\n",
      "Processing record 161 | barrow\n",
      "Processing record 162 | dentsville\n",
      "Processing record 163 | sao jose da coroa grande\n",
      "Record not found\n",
      "Processing record 164 | atuona\n",
      "Processing record 165 | hambantota\n",
      "Processing record 166 | clyde river\n",
      "Processing record 167 | shakawe\n",
      "Processing record 168 | carupano\n",
      "Record not found\n",
      "Processing record 169 | pinhao\n",
      "Processing record 170 | tessalit\n",
      "Processing record 171 | lorengau\n",
      "Processing record 172 | ostrovnoy\n",
      "Processing record 173 | tuatapere\n",
      "Processing record 174 | west wendover\n",
      "Processing record 175 | evensk\n",
      "Processing record 176 | hualmay\n",
      "Processing record 177 | denpasar\n",
      "Processing record 178 | chernenko\n",
      "Processing record 179 | yar-sale\n",
      "Processing record 180 | mogadishu\n",
      "Processing record 181 | yumen\n",
      "Processing record 182 | oxbow\n",
      "Processing record 183 | narsaq\n",
      "Processing record 184 | deep river\n",
      "Record not found\n",
      "Processing record 185 | qaanaaq\n",
      "Processing record 186 | kloulklubed\n",
      "Processing record 187 | ferkessedougou\n",
      "Processing record 188 | basco\n",
      "Processing record 189 | pisco\n",
      "Processing record 190 | geraldton\n",
      "Processing record 191 | heihe\n",
      "Processing record 192 | san pedro\n",
      "Processing record 193 | ikornnes\n",
      "Processing record 194 | hamilton\n",
      "Processing record 195 | panjab\n",
      "Processing record 196 | mar del plata\n",
      "Processing record 197 | adre\n",
      "Processing record 198 | ciudad guayana\n",
      "Processing record 199 | chagoda\n",
      "Processing record 200 | laguna\n",
      "Processing record 201 | antalaha\n",
      "Processing record 202 | okahandja\n",
      "Processing record 203 | caxito\n",
      "Processing record 204 | kaitangata\n",
      "Processing record 205 | kenai\n",
      "Processing record 206 | moron\n",
      "Processing record 207 | east london\n",
      "Processing record 208 | grand-santi\n",
      "Processing record 209 | charters towers\n",
      "Record not found\n",
      "Processing record 210 | behshahr\n",
      "Processing record 211 | yavoriv\n",
      "Processing record 212 | komsomolskiy\n",
      "Processing record 213 | conceicao do araguaia\n",
      "Processing record 214 | saint-joseph\n",
      "Processing record 215 | fortuna\n",
      "Processing record 216 | leningradskiy\n",
      "Processing record 217 | baherden\n",
      "Processing record 218 | honiara\n",
      "Processing record 219 | guerrero negro\n",
      "Processing record 220 | saint george\n",
      "Record not found\n",
      "Processing record 221 | matagami\n",
      "Processing record 222 | flinders\n",
      "Processing record 223 | simao\n",
      "Record not found\n",
      "Processing record 224 | te anau\n",
      "Processing record 225 | upernavik\n",
      "Processing record 226 | ankang\n",
      "Processing record 227 | olafsvik\n",
      "Processing record 228 | jinji\n",
      "Processing record 229 | pandharpur\n",
      "Processing record 230 | chimbote\n",
      "Processing record 231 | naze\n",
      "Processing record 232 | salmo\n",
      "Processing record 233 | dembi dolo\n",
      "Processing record 234 | olavarria\n",
      "Processing record 235 | khilok\n",
      "Processing record 236 | vanavara\n",
      "Processing record 237 | asheville\n"
     ]
    },
    {
     "name": "stdout",
     "output_type": "stream",
     "text": [
      "Processing record 238 | huautla\n",
      "Processing record 239 | anito\n",
      "Processing record 240 | esperance\n",
      "Processing record 241 | marzuq\n",
      "Processing record 242 | poronaysk\n",
      "Processing record 243 | torbay\n",
      "Processing record 244 | saint-philippe\n",
      "Processing record 245 | pafos\n",
      "Processing record 246 | novikovo\n",
      "Processing record 247 | ypsonas\n",
      "Processing record 248 | lucea\n",
      "Processing record 249 | kyzyl-suu\n",
      "Processing record 250 | aguimes\n",
      "Processing record 251 | japura\n",
      "Processing record 252 | maibong\n",
      "Processing record 253 | indiaroba\n",
      "Processing record 254 | ballina\n",
      "Processing record 255 | kiruna\n",
      "Processing record 256 | biloela\n",
      "Processing record 257 | new norfolk\n",
      "Processing record 258 | tartus\n",
      "Processing record 259 | jacareacanga\n",
      "Processing record 260 | peterhead\n",
      "Processing record 261 | hithadhoo\n",
      "Processing record 262 | avera\n",
      "Processing record 263 | coquimbo\n",
      "Record not found\n",
      "Record not found\n",
      "Processing record 264 | namatanai\n",
      "Processing record 265 | mount isa\n",
      "Processing record 266 | pokhara\n",
      "Processing record 267 | belyy gorodok\n",
      "Processing record 268 | hilo\n",
      "Processing record 269 | grenada\n",
      "Processing record 270 | nizhniy odes\n",
      "Processing record 271 | fort morgan\n",
      "Processing record 272 | bar harbor\n",
      "Processing record 273 | mahanje\n",
      "Processing record 274 | davila\n",
      "Record not found\n",
      "Processing record 275 | altoona\n",
      "Processing record 276 | yatou\n",
      "Processing record 277 | rio gallegos\n",
      "Processing record 278 | zubova polyana\n",
      "Processing record 279 | kulhudhuffushi\n",
      "Processing record 280 | general cepeda\n",
      "Processing record 281 | takhli\n",
      "Processing record 282 | krasnoselkup\n",
      "Processing record 283 | luderitz\n",
      "Processing record 284 | ploemeur\n",
      "Processing record 285 | gigmoto\n",
      "Processing record 286 | mabaruma\n",
      "Processing record 287 | mao\n",
      "Processing record 288 | salalah\n",
      "Record not found\n",
      "Processing record 289 | kahului\n",
      "Processing record 290 | pucallpa\n",
      "Processing record 291 | grand-lahou\n",
      "Processing record 292 | maraba\n",
      "Processing record 293 | meulaboh\n",
      "Record not found\n",
      "Processing record 294 | ekhabi\n",
      "Processing record 295 | kieta\n",
      "Processing record 296 | kikwit\n",
      "Processing record 297 | bekhtery\n",
      "Processing record 298 | mongo\n",
      "Processing record 299 | carutapera\n",
      "Processing record 300 | pacific grove\n",
      "Processing record 301 | harwich\n",
      "Record not found\n",
      "Processing record 302 | tubuala\n",
      "Processing record 303 | san martin\n",
      "Processing record 304 | gat\n",
      "Processing record 305 | ararangua\n",
      "Processing record 306 | verkhnyaya inta\n",
      "Processing record 307 | saint-georges\n",
      "Processing record 308 | portmore\n",
      "Processing record 309 | lasa\n",
      "Processing record 310 | luau\n",
      "Processing record 311 | jackson\n",
      "Processing record 312 | gimli\n",
      "Processing record 313 | namibe\n",
      "Processing record 314 | fasa\n",
      "Processing record 315 | hrinova\n",
      "Processing record 316 | benghazi\n",
      "Processing record 317 | lamin\n",
      "Processing record 318 | dudinka\n",
      "Processing record 319 | masvingo\n",
      "Processing record 320 | alofi\n",
      "Processing record 321 | sycow\n",
      "Processing record 322 | port macquarie\n",
      "Processing record 323 | hofn\n",
      "Processing record 324 | macultepec\n",
      "Record not found\n",
      "Processing record 325 | vanimo\n",
      "Processing record 326 | hasaki\n",
      "Processing record 327 | kysyl-syr\n",
      "Processing record 328 | vangaindrano\n",
      "Processing record 329 | whitianga\n",
      "Processing record 330 | petropavlovsk-kamchatskiy\n",
      "Processing record 331 | kavieng\n",
      "Processing record 332 | cervo\n",
      "Processing record 333 | birin\n",
      "Record not found\n",
      "Processing record 334 | nampula\n",
      "Processing record 335 | sal rei\n",
      "Processing record 336 | verkhoyansk\n",
      "Processing record 337 | marsa matruh\n",
      "Processing record 338 | selimbar\n",
      "Processing record 339 | methoni\n",
      "Record not found\n",
      "Processing record 340 | deputatskiy\n",
      "Processing record 341 | makakilo city\n",
      "Processing record 342 | asau\n",
      "Processing record 343 | lodja\n",
      "Processing record 344 | grand gaube\n",
      "Processing record 345 | vestmannaeyjar\n",
      "Processing record 346 | port hedland\n",
      "Processing record 347 | touros\n",
      "Processing record 348 | monastyrshchina\n",
      "Processing record 349 | borovoy\n",
      "Processing record 350 | tanda\n",
      "Processing record 351 | merauke\n",
      "Processing record 352 | oeiras do para\n",
      "Processing record 353 | sao felix do xingu\n",
      "Processing record 354 | launceston\n",
      "Record not found\n",
      "Processing record 355 | xai-xai\n",
      "Record not found\n",
      "Processing record 356 | baturaja\n",
      "Processing record 357 | fairbanks\n",
      "Processing record 358 | bundaberg\n",
      "Processing record 359 | sayansk\n",
      "Processing record 360 | alyangula\n",
      "Processing record 361 | nguru\n",
      "Processing record 362 | viedma\n",
      "Processing record 363 | kaeo\n",
      "Processing record 364 | aksu\n",
      "Record not found\n",
      "Record not found\n",
      "Processing record 365 | zonguldak\n",
      "Processing record 366 | san rafael del sur\n",
      "Processing record 367 | teahupoo\n",
      "Processing record 368 | hovd\n",
      "Processing record 369 | sinnamary\n",
      "Processing record 370 | maningrida\n",
      "Processing record 371 | katsuura\n",
      "Processing record 372 | tumbes\n",
      "Record not found\n",
      "Processing record 373 | christchurch\n",
      "Processing record 374 | tianpeng\n",
      "Processing record 375 | copiapo\n",
      "Processing record 376 | sitka\n",
      "Record not found\n",
      "Processing record 377 | ilebo\n",
      "Processing record 378 | izumo\n",
      "Processing record 379 | conde\n",
      "Processing record 380 | bontang\n",
      "Record not found\n",
      "Processing record 381 | cacapava do sul\n",
      "Processing record 382 | manta\n",
      "Record not found\n",
      "Processing record 383 | kopong\n",
      "Processing record 384 | shingu\n",
      "Processing record 385 | kibala\n",
      "Processing record 386 | portland\n",
      "Processing record 387 | makat\n",
      "Processing record 388 | bubaque\n",
      "Processing record 389 | esterhazy\n",
      "Processing record 390 | altamont\n",
      "Record not found\n",
      "Processing record 391 | roncesvalles\n",
      "Processing record 392 | port blair\n",
      "Processing record 393 | bonfim\n",
      "Processing record 394 | tongzi\n",
      "Processing record 395 | piranhas\n",
      "Processing record 396 | saint-pierre\n",
      "Processing record 397 | valparaiso\n",
      "Processing record 398 | phrae\n",
      "Processing record 399 | bezhetsk\n",
      "Processing record 400 | meadow lake\n",
      "Processing record 401 | tiruchchendur\n",
      "Processing record 402 | inuvik\n",
      "Processing record 403 | port keats\n",
      "Processing record 404 | nilokheri\n",
      "Processing record 405 | vila velha\n",
      "Processing record 406 | union\n",
      "Processing record 407 | pingzhuang\n",
      "Processing record 408 | cravo norte\n",
      "Processing record 409 | dunedin\n",
      "Processing record 410 | gazojak\n",
      "Processing record 411 | port lincoln\n",
      "Record not found\n",
      "Record not found\n",
      "Processing record 412 | altus\n",
      "Processing record 413 | misratah\n",
      "Processing record 414 | constitucion\n",
      "Processing record 415 | suffolk\n",
      "Processing record 416 | birobidzhan\n",
      "Processing record 417 | los llanos de aridane\n",
      "Processing record 418 | fort walton beach\n",
      "Processing record 419 | beloha\n",
      "Record not found\n",
      "Processing record 420 | pontypool\n",
      "Processing record 421 | bilibino\n",
      "Processing record 422 | vila franca do campo\n",
      "Processing record 423 | santiago del estero\n",
      "Processing record 424 | aquiraz\n",
      "Processing record 425 | eirunepe\n",
      "Processing record 426 | poum\n",
      "Processing record 427 | rabo de peixe\n",
      "Processing record 428 | beringovskiy\n",
      "Processing record 429 | verkhnevilyuysk\n",
      "Processing record 430 | boa vista\n",
      "Processing record 431 | shellbrook\n",
      "Processing record 432 | guisa\n",
      "Processing record 433 | cavalcante\n",
      "Processing record 434 | kirensk\n",
      "Processing record 435 | obo\n",
      "Processing record 436 | sortland\n",
      "Processing record 437 | shipitsyno\n",
      "Processing record 438 | west plains\n",
      "Processing record 439 | xining\n",
      "Record not found\n",
      "Processing record 440 | slavyanka\n",
      "Processing record 441 | hearst\n",
      "Record not found\n",
      "Processing record 442 | coihaique\n",
      "Record not found\n",
      "Processing record 443 | muli\n",
      "Processing record 444 | otradnoye\n",
      "Processing record 445 | hami\n",
      "Processing record 446 | mangrol\n",
      "Processing record 447 | tepalcatepec\n",
      "Record not found\n",
      "Record not found\n",
      "Processing record 448 | broome\n",
      "Record not found\n",
      "Processing record 449 | luang prabang\n",
      "Processing record 450 | rochester\n",
      "Processing record 451 | parichha\n",
      "Processing record 452 | matadi\n",
      "Processing record 453 | kenora\n",
      "Record not found\n",
      "Processing record 454 | luanda\n",
      "Processing record 455 | macapa\n",
      "Processing record 456 | safaga\n",
      "Processing record 457 | korla\n",
      "Record not found\n",
      "Processing record 458 | puerto madryn\n",
      "Processing record 459 | yaan\n",
      "Processing record 460 | jalu\n",
      "Processing record 461 | lufilufi\n",
      "Record not found\n",
      "Processing record 462 | vilhena\n",
      "Processing record 463 | vao\n",
      "Processing record 464 | sembabule\n",
      "Processing record 465 | vire\n",
      "Processing record 466 | colorado springs\n",
      "Processing record 467 | cockburn town\n",
      "Processing record 468 | lahij\n"
     ]
    },
    {
     "name": "stdout",
     "output_type": "stream",
     "text": [
      "Processing record 469 | ahipara\n",
      "Processing record 470 | santarem\n",
      "Processing record 471 | kapit\n",
      "Processing record 472 | zabid\n",
      "Processing record 473 | hirara\n",
      "Record not found\n",
      "Processing record 474 | reyes\n",
      "Processing record 475 | hobyo\n",
      "Record not found\n",
      "Processing record 476 | yangjiang\n",
      "Processing record 477 | natal\n",
      "Processing record 478 | trofors\n",
      "Processing record 479 | nara\n",
      "Processing record 480 | benguela\n",
      "Processing record 481 | tobol\n",
      "Processing record 482 | porto san giorgio\n",
      "Processing record 483 | skjervoy\n",
      "Record not found\n",
      "Processing record 484 | odoyev\n",
      "Processing record 485 | dengzhou\n",
      "Processing record 486 | san policarpo\n",
      "Processing record 487 | latung\n",
      "Processing record 488 | ilulissat\n",
      "Processing record 489 | neyshabur\n",
      "Processing record 490 | hamza\n",
      "Processing record 491 | erin\n",
      "Processing record 492 | belmonte\n",
      "Processing record 493 | kosjeric\n",
      "Processing record 494 | mecca\n",
      "Record not found\n",
      "Processing record 495 | sibolga\n",
      "Processing record 496 | kargat\n",
      "Processing record 497 | kamenka\n",
      "Record not found\n",
      "Processing record 498 | dzaoudzi\n",
      "Processing record 499 | acari\n",
      "Processing record 500 | taksimo\n",
      "Processing record 501 | port pirie\n",
      "Processing record 502 | srednekolymsk\n",
      "Record not found\n",
      "Processing record 503 | douentza\n",
      "Processing record 504 | vostok\n",
      "Processing record 505 | lethem\n",
      "Processing record 506 | namtsy\n",
      "Processing record 507 | port hardy\n",
      "Processing record 508 | rocha\n",
      "Processing record 509 | tooele\n",
      "Processing record 510 | lakshettipet\n",
      "Processing record 511 | shihezi\n",
      "Record not found\n",
      "Processing record 512 | barsovo\n",
      "Processing record 513 | russkaya polyana\n",
      "Processing record 514 | swan river\n",
      "Processing record 515 | smithers\n",
      "Processing record 516 | zhezkazgan\n",
      "Processing record 517 | sechura\n",
      "Processing record 518 | nichinan\n",
      "Processing record 519 | petrovskaya\n",
      "Processing record 520 | tarko-sale\n",
      "Processing record 521 | callaway\n",
      "Processing record 522 | visby\n",
      "Record not found\n",
      "Record not found\n",
      "Processing record 523 | zasheyek\n",
      "Processing record 524 | sioux lookout\n",
      "Processing record 525 | poya\n",
      "Processing record 526 | taltal\n",
      "Processing record 527 | villefontaine\n",
      "Processing record 528 | luena\n",
      "Processing record 529 | cao bang\n",
      "Processing record 530 | nome\n",
      "Processing record 531 | waddan\n",
      "Processing record 532 | grand falls\n",
      "Processing record 533 | chirongui\n",
      "Processing record 534 | aswan\n",
      "Processing record 535 | lewistown\n",
      "Processing record 536 | fria\n",
      "Processing record 537 | bud\n",
      "Processing record 538 | bethanien\n",
      "Record not found\n",
      "Processing record 539 | henties bay\n",
      "Processing record 540 | casper\n",
      "Processing record 541 | jizan\n",
      "Processing record 542 | terney\n",
      "Processing record 543 | faya\n",
      "Processing record 544 | camapua\n",
      "Processing record 545 | sarangani\n",
      "Processing record 546 | sorong\n",
      "Processing record 547 | iqaluit\n",
      "Processing record 548 | acarau\n",
      "Processing record 549 | kisanga\n",
      "Processing record 550 | general roca\n",
      "Processing record 551 | mineiros\n",
      "Processing record 552 | huadian\n",
      "Processing record 553 | gundorovskiy\n",
      "Processing record 554 | carauari\n",
      "Processing record 555 | rundu\n",
      "Processing record 556 | ponta delgada\n",
      "Processing record 557 | los altos\n",
      "Processing record 558 | walvis bay\n",
      "Processing record 559 | aden\n",
      "Record not found\n",
      "Processing record 560 | richards bay\n",
      "Processing record 561 | beira\n",
      "Processing record 562 | chitral\n",
      "Processing record 563 | ketchikan\n"
     ]
    }
   ],
   "source": [
    "# Loop through the list of cities and perform a request for data on each\n",
    "\n",
    "for city in cities:\n",
    "    weather_response = requests.get(target_url + \"&q=\" + city + \"&units=Imperial\")\n",
    "    weather_json = weather_response.json()\n",
    "    try:\n",
    "        cityname.append(weather_json['city']['name'])\n",
    "        cloudiness.append(weather_json['list'][0]['clouds']['all'])\n",
    "        country.append(weather_json['city']['country'])\n",
    "        date.append(weather_json['list'][0]['dt'])\n",
    "        humidity.append(weather_json['list'][0]['main']['humidity'])\n",
    "        lat.append(weather_json['city']['coord']['lat'])\n",
    "        lng.append(weather_json['city']['coord']['lon'])\n",
    "        max_temp.append(weather_json['list'][0]['main']['temp_max'])\n",
    "        wind_speed.append(weather_json['list'][0]['wind']['speed'])\n",
    "        count = count + 1\n",
    "        print(f\"Processing record {count} | {city}\")\n",
    "    except:\n",
    "        print(\"Record not found\") \n",
    "        pass\n",
    "        "
   ]
  },
  {
   "cell_type": "code",
   "execution_count": 16,
   "metadata": {},
   "outputs": [
    {
     "data": {
      "text/html": [
       "<div>\n",
       "<style scoped>\n",
       "    .dataframe tbody tr th:only-of-type {\n",
       "        vertical-align: middle;\n",
       "    }\n",
       "\n",
       "    .dataframe tbody tr th {\n",
       "        vertical-align: top;\n",
       "    }\n",
       "\n",
       "    .dataframe thead th {\n",
       "        text-align: right;\n",
       "    }\n",
       "</style>\n",
       "<table border=\"1\" class=\"dataframe\">\n",
       "  <thead>\n",
       "    <tr style=\"text-align: right;\">\n",
       "      <th></th>\n",
       "      <th>City</th>\n",
       "      <th>Latitude</th>\n",
       "      <th>Longitude</th>\n",
       "      <th>Max Temp</th>\n",
       "      <th>Humidity</th>\n",
       "      <th>Cloudiness</th>\n",
       "      <th>Wind Speed</th>\n",
       "      <th>Country</th>\n",
       "      <th>Date</th>\n",
       "    </tr>\n",
       "  </thead>\n",
       "  <tbody>\n",
       "    <tr>\n",
       "      <th>0</th>\n",
       "      <td>Ushuaia</td>\n",
       "      <td>-54.8000</td>\n",
       "      <td>-68.3000</td>\n",
       "      <td>51.93</td>\n",
       "      <td>96</td>\n",
       "      <td>100</td>\n",
       "      <td>6.31</td>\n",
       "      <td>AR</td>\n",
       "      <td>1584241200</td>\n",
       "    </tr>\n",
       "    <tr>\n",
       "      <th>1</th>\n",
       "      <td>Butaritari</td>\n",
       "      <td>3.0707</td>\n",
       "      <td>172.7902</td>\n",
       "      <td>83.88</td>\n",
       "      <td>74</td>\n",
       "      <td>0</td>\n",
       "      <td>11.79</td>\n",
       "      <td>KI</td>\n",
       "      <td>1584241200</td>\n",
       "    </tr>\n",
       "    <tr>\n",
       "      <th>2</th>\n",
       "      <td>Praia</td>\n",
       "      <td>14.9215</td>\n",
       "      <td>-23.5087</td>\n",
       "      <td>71.62</td>\n",
       "      <td>79</td>\n",
       "      <td>0</td>\n",
       "      <td>11.50</td>\n",
       "      <td>CV</td>\n",
       "      <td>1584241200</td>\n",
       "    </tr>\n",
       "    <tr>\n",
       "      <th>3</th>\n",
       "      <td>Puerto del Rosario</td>\n",
       "      <td>28.5004</td>\n",
       "      <td>-13.8627</td>\n",
       "      <td>58.62</td>\n",
       "      <td>77</td>\n",
       "      <td>0</td>\n",
       "      <td>10.40</td>\n",
       "      <td>ES</td>\n",
       "      <td>1584241200</td>\n",
       "    </tr>\n",
       "    <tr>\n",
       "      <th>4</th>\n",
       "      <td>Avarua</td>\n",
       "      <td>-21.2078</td>\n",
       "      <td>-159.7750</td>\n",
       "      <td>83.95</td>\n",
       "      <td>67</td>\n",
       "      <td>8</td>\n",
       "      <td>6.15</td>\n",
       "      <td>CK</td>\n",
       "      <td>1584241200</td>\n",
       "    </tr>\n",
       "    <tr>\n",
       "      <th>5</th>\n",
       "      <td>Bozeman</td>\n",
       "      <td>45.6796</td>\n",
       "      <td>-111.0386</td>\n",
       "      <td>15.39</td>\n",
       "      <td>92</td>\n",
       "      <td>100</td>\n",
       "      <td>1.79</td>\n",
       "      <td>US</td>\n",
       "      <td>1584241200</td>\n",
       "    </tr>\n",
       "    <tr>\n",
       "      <th>6</th>\n",
       "      <td>Tasiilaq</td>\n",
       "      <td>65.6145</td>\n",
       "      <td>-37.6368</td>\n",
       "      <td>-3.44</td>\n",
       "      <td>74</td>\n",
       "      <td>2</td>\n",
       "      <td>2.64</td>\n",
       "      <td>GL</td>\n",
       "      <td>1584241200</td>\n",
       "    </tr>\n",
       "    <tr>\n",
       "      <th>7</th>\n",
       "      <td>Lavrentiya</td>\n",
       "      <td>65.5833</td>\n",
       "      <td>-171.0000</td>\n",
       "      <td>21.02</td>\n",
       "      <td>79</td>\n",
       "      <td>100</td>\n",
       "      <td>10.56</td>\n",
       "      <td>RU</td>\n",
       "      <td>1584241200</td>\n",
       "    </tr>\n",
       "    <tr>\n",
       "      <th>8</th>\n",
       "      <td>Hong Kong</td>\n",
       "      <td>22.2855</td>\n",
       "      <td>114.1577</td>\n",
       "      <td>73.58</td>\n",
       "      <td>47</td>\n",
       "      <td>42</td>\n",
       "      <td>3.38</td>\n",
       "      <td>HK</td>\n",
       "      <td>1584241200</td>\n",
       "    </tr>\n",
       "    <tr>\n",
       "      <th>9</th>\n",
       "      <td>Mataura</td>\n",
       "      <td>-46.1927</td>\n",
       "      <td>168.8643</td>\n",
       "      <td>69.42</td>\n",
       "      <td>61</td>\n",
       "      <td>100</td>\n",
       "      <td>1.39</td>\n",
       "      <td>NZ</td>\n",
       "      <td>1584241200</td>\n",
       "    </tr>\n",
       "    <tr>\n",
       "      <th>10</th>\n",
       "      <td>Hermanus</td>\n",
       "      <td>-34.4187</td>\n",
       "      <td>19.2345</td>\n",
       "      <td>65.68</td>\n",
       "      <td>78</td>\n",
       "      <td>100</td>\n",
       "      <td>15.64</td>\n",
       "      <td>ZA</td>\n",
       "      <td>1584241200</td>\n",
       "    </tr>\n",
       "    <tr>\n",
       "      <th>11</th>\n",
       "      <td>Lagoa</td>\n",
       "      <td>39.0500</td>\n",
       "      <td>-27.9833</td>\n",
       "      <td>58.80</td>\n",
       "      <td>83</td>\n",
       "      <td>22</td>\n",
       "      <td>11.34</td>\n",
       "      <td>PT</td>\n",
       "      <td>1584241200</td>\n",
       "    </tr>\n",
       "    <tr>\n",
       "      <th>12</th>\n",
       "      <td>Necochea</td>\n",
       "      <td>-38.5473</td>\n",
       "      <td>-58.7368</td>\n",
       "      <td>61.32</td>\n",
       "      <td>72</td>\n",
       "      <td>0</td>\n",
       "      <td>12.44</td>\n",
       "      <td>AR</td>\n",
       "      <td>1584241200</td>\n",
       "    </tr>\n",
       "    <tr>\n",
       "      <th>13</th>\n",
       "      <td>Klaksvík</td>\n",
       "      <td>62.2266</td>\n",
       "      <td>-6.5890</td>\n",
       "      <td>37.36</td>\n",
       "      <td>78</td>\n",
       "      <td>100</td>\n",
       "      <td>35.90</td>\n",
       "      <td>FO</td>\n",
       "      <td>1584241200</td>\n",
       "    </tr>\n",
       "    <tr>\n",
       "      <th>14</th>\n",
       "      <td>Carnarvon</td>\n",
       "      <td>-24.8667</td>\n",
       "      <td>113.6333</td>\n",
       "      <td>81.46</td>\n",
       "      <td>76</td>\n",
       "      <td>81</td>\n",
       "      <td>3.89</td>\n",
       "      <td>AU</td>\n",
       "      <td>1584241200</td>\n",
       "    </tr>\n",
       "    <tr>\n",
       "      <th>15</th>\n",
       "      <td>Nouadhibou</td>\n",
       "      <td>20.9310</td>\n",
       "      <td>-17.0347</td>\n",
       "      <td>65.53</td>\n",
       "      <td>72</td>\n",
       "      <td>0</td>\n",
       "      <td>22.66</td>\n",
       "      <td>MR</td>\n",
       "      <td>1584241200</td>\n",
       "    </tr>\n",
       "    <tr>\n",
       "      <th>16</th>\n",
       "      <td>Paamiut</td>\n",
       "      <td>61.9940</td>\n",
       "      <td>-49.6678</td>\n",
       "      <td>4.01</td>\n",
       "      <td>68</td>\n",
       "      <td>100</td>\n",
       "      <td>6.60</td>\n",
       "      <td>GL</td>\n",
       "      <td>1584241200</td>\n",
       "    </tr>\n",
       "    <tr>\n",
       "      <th>17</th>\n",
       "      <td>Rikitea</td>\n",
       "      <td>-23.1203</td>\n",
       "      <td>-134.9692</td>\n",
       "      <td>79.07</td>\n",
       "      <td>70</td>\n",
       "      <td>3</td>\n",
       "      <td>9.08</td>\n",
       "      <td>PF</td>\n",
       "      <td>1584241200</td>\n",
       "    </tr>\n",
       "    <tr>\n",
       "      <th>18</th>\n",
       "      <td>Rawson</td>\n",
       "      <td>-43.3002</td>\n",
       "      <td>-65.1023</td>\n",
       "      <td>60.96</td>\n",
       "      <td>65</td>\n",
       "      <td>0</td>\n",
       "      <td>7.63</td>\n",
       "      <td>AR</td>\n",
       "      <td>1584241200</td>\n",
       "    </tr>\n",
       "    <tr>\n",
       "      <th>19</th>\n",
       "      <td>Port Alfred</td>\n",
       "      <td>-33.5906</td>\n",
       "      <td>26.8910</td>\n",
       "      <td>67.10</td>\n",
       "      <td>82</td>\n",
       "      <td>62</td>\n",
       "      <td>15.39</td>\n",
       "      <td>ZA</td>\n",
       "      <td>1584241200</td>\n",
       "    </tr>\n",
       "  </tbody>\n",
       "</table>\n",
       "</div>"
      ],
      "text/plain": [
       "                  City  Latitude  Longitude  Max Temp  Humidity  Cloudiness  \\\n",
       "0              Ushuaia  -54.8000   -68.3000     51.93        96         100   \n",
       "1           Butaritari    3.0707   172.7902     83.88        74           0   \n",
       "2                Praia   14.9215   -23.5087     71.62        79           0   \n",
       "3   Puerto del Rosario   28.5004   -13.8627     58.62        77           0   \n",
       "4               Avarua  -21.2078  -159.7750     83.95        67           8   \n",
       "5              Bozeman   45.6796  -111.0386     15.39        92         100   \n",
       "6             Tasiilaq   65.6145   -37.6368     -3.44        74           2   \n",
       "7           Lavrentiya   65.5833  -171.0000     21.02        79         100   \n",
       "8            Hong Kong   22.2855   114.1577     73.58        47          42   \n",
       "9              Mataura  -46.1927   168.8643     69.42        61         100   \n",
       "10            Hermanus  -34.4187    19.2345     65.68        78         100   \n",
       "11               Lagoa   39.0500   -27.9833     58.80        83          22   \n",
       "12            Necochea  -38.5473   -58.7368     61.32        72           0   \n",
       "13            Klaksvík   62.2266    -6.5890     37.36        78         100   \n",
       "14           Carnarvon  -24.8667   113.6333     81.46        76          81   \n",
       "15          Nouadhibou   20.9310   -17.0347     65.53        72           0   \n",
       "16             Paamiut   61.9940   -49.6678      4.01        68         100   \n",
       "17             Rikitea  -23.1203  -134.9692     79.07        70           3   \n",
       "18              Rawson  -43.3002   -65.1023     60.96        65           0   \n",
       "19         Port Alfred  -33.5906    26.8910     67.10        82          62   \n",
       "\n",
       "    Wind Speed Country        Date  \n",
       "0         6.31      AR  1584241200  \n",
       "1        11.79      KI  1584241200  \n",
       "2        11.50      CV  1584241200  \n",
       "3        10.40      ES  1584241200  \n",
       "4         6.15      CK  1584241200  \n",
       "5         1.79      US  1584241200  \n",
       "6         2.64      GL  1584241200  \n",
       "7        10.56      RU  1584241200  \n",
       "8         3.38      HK  1584241200  \n",
       "9         1.39      NZ  1584241200  \n",
       "10       15.64      ZA  1584241200  \n",
       "11       11.34      PT  1584241200  \n",
       "12       12.44      AR  1584241200  \n",
       "13       35.90      FO  1584241200  \n",
       "14        3.89      AU  1584241200  \n",
       "15       22.66      MR  1584241200  \n",
       "16        6.60      GL  1584241200  \n",
       "17        9.08      PF  1584241200  \n",
       "18        7.63      AR  1584241200  \n",
       "19       15.39      ZA  1584241200  "
      ]
     },
     "execution_count": 16,
     "metadata": {},
     "output_type": "execute_result"
    }
   ],
   "source": [
    "# Convert Raw Data to DataFrame\n",
    "\n",
    "weather_df = {\"City\": cityname,\"Latitude\": lat, \"Longitude\":lng,\n",
    "                \"Max Temp\":max_temp,\"Humidity\":humidity,\"Cloudiness\":cloudiness,\n",
    "                \"Wind Speed\":wind_speed,\"Country\":country, \"Date\":date}\n",
    "\n",
    "weather_data = pd.DataFrame(weather_df)\n",
    "weather_data.head(20)"
   ]
  },
  {
   "cell_type": "code",
   "execution_count": 17,
   "metadata": {},
   "outputs": [],
   "source": [
    "# Export the data into a csv\n",
    "\n",
    "weather_data.to_csv(r'output_data\\weather_data.csv')"
   ]
  },
  {
   "cell_type": "code",
   "execution_count": 18,
   "metadata": {},
   "outputs": [],
   "source": [
    "# Plotting the Data\n",
    "# Use proper labeling of the plots using plot titles (including date of analysis) and axes labels.\n",
    "# Save the plotted figures as .pngs."
   ]
  },
  {
   "cell_type": "code",
   "execution_count": 19,
   "metadata": {},
   "outputs": [
    {
     "data": {
      "image/png": "[encoded data removed]",
      "text/plain": [
       "<Figure size 432x288 with 1 Axes>"
      ]
     },
     "metadata": {
      "needs_background": "light"
     },
     "output_type": "display_data"
    },
    {
     "name": "stdout",
     "output_type": "stream",
     "text": [
      "This code plots the relationship between latitude and max temperature for the cities from the API call above. Based on the resulting scatterplot, as latitude increases, max temperature decreases.\n"
     ]
    }
   ],
   "source": [
    "# Temperature (F) vs. Latitude\n",
    "\n",
    "scatlat = weather_data[\"Latitude\"]\n",
    "scattemp = weather_data[\"Max Temp\"]\n",
    "\n",
    "plt.scatter(scatlat,scattemp, color='pink')\n",
    "plt.title(f'City Latitude vs. Max Temperature ({datetime.datetime.now().strftime(\"%D\")})')\n",
    "plt.xlabel('Latitude')\n",
    "plt.ylabel('Max Temperature (F)')\n",
    "plt.savefig('Temperature (F) vs Latitude')\n",
    "plt.show()\n",
    "\n",
    "print(\"This code plots the relationship between latitude and max temperature for the cities from the API call above. Based on the resulting scatterplot, as latitude increases, max temperature decreases.\")"
   ]
  },
  {
   "cell_type": "code",
   "execution_count": 20,
   "metadata": {},
   "outputs": [
    {
     "data": {
      "image/png": "[encoded data removed]",
      "text/plain": [
       "<Figure size 432x288 with 1 Axes>"
      ]
     },
     "metadata": {
      "needs_background": "light"
     },
     "output_type": "display_data"
    },
    {
     "name": "stdout",
     "output_type": "stream",
     "text": [
      "This code plots the relationship between latitude and humidity. Based on the resulting scatterplot, most cities humidity is over 40%. The lowest humidity percentage is found in cities with latitudes around ~20.\n"
     ]
    }
   ],
   "source": [
    "# Humidity (%) vs. Latitude\n",
    "\n",
    "scathum = weather_data[\"Humidity\"]\n",
    "\n",
    "plt.scatter(scatlat,scathum, color='pink')\n",
    "plt.title(f'City Latitude vs. Humidity ({datetime.datetime.now().strftime(\"%D\")})')\n",
    "plt.xlabel('Latitude')\n",
    "plt.ylabel('Humidity (%)')\n",
    "plt.savefig('Humidity (%) vs Latitude')\n",
    "plt.show()\n",
    "\n",
    "print(\"This code plots the relationship between latitude and humidity. Based on the resulting scatterplot, most cities humidity is over 40%. The lowest humidity percentage is found in cities with latitudes around ~20.\")"
   ]
  },
  {
   "cell_type": "code",
   "execution_count": 33,
   "metadata": {},
   "outputs": [
    {
     "data": {
      "image/png": "[encoded data removed]",
      "text/plain": [
       "<Figure size 432x288 with 1 Axes>"
      ]
     },
     "metadata": {
      "needs_background": "light"
     },
     "output_type": "display_data"
    },
    {
     "name": "stdout",
     "output_type": "stream",
     "text": [
      "This code plots the relationship between latitude and cloudiness. Based on the resulting scatterplot, there are lots of cities with 100% and 0% cloudiness, regardless of latitude. It appears that ~0 latitude has the least amount of 0% cloudiness cities.\n"
     ]
    }
   ],
   "source": [
    "# Cloudiness (%) vs. Latitude\n",
    "\n",
    "scatcloud = weather_data[\"Cloudiness\"]\n",
    "\n",
    "plt.scatter(scatlat,scatcloud, color='pink')\n",
    "plt.title(f'City Latitude vs. Cloudiness ({datetime.datetime.now().strftime(\"%D\")})')\n",
    "plt.xlabel('Latitude')\n",
    "plt.ylabel('Cloudiness (%)')\n",
    "plt.savefig('Cloudiness (%) vs Latitude')\n",
    "plt.show()\n",
    "\n",
    "print(\"This code plots the relationship between latitude and cloudiness. Based on the resulting scatterplot, there are lots of cities with 100% and 0% cloudiness, regardless of latitude. It appears that ~0 latitude has the least amount of 0% cloudiness cities.\")"
   ]
  },
  {
   "cell_type": "code",
   "execution_count": 35,
   "metadata": {},
   "outputs": [
    {
     "data": {
      "image/png": "[encoded data removed]",
      "text/plain": [
       "<Figure size 432x288 with 1 Axes>"
      ]
     },
     "metadata": {
      "needs_background": "light"
     },
     "output_type": "display_data"
    },
    {
     "name": "stdout",
     "output_type": "stream",
     "text": [
      "This code plots the relationship between latitude and wind speed. Based on the resulting scatterplot, most cities have wind speed under 20 mph. Two cities with latitudes of -20 have the highest wind speeds (~50 mph and ~40 mph).\n"
     ]
    }
   ],
   "source": [
    "# Wind Speed (mph) vs. Latitude\n",
    "\n",
    "scatwindsp = weather_data[\"Wind Speed\"]\n",
    "\n",
    "plt.scatter(scatlat,scatwindsp, color='pink')\n",
    "plt.title(f'City Latitude vs. Wind Speed ({datetime.datetime.now().strftime(\"%D\")})')\n",
    "plt.xlabel('Latitude')\n",
    "plt.ylabel('Wind Speed (mph)')\n",
    "plt.savefig('Wind Speed (mph) vs Latitude')\n",
    "plt.show()\n",
    "\n",
    "print(\"This code plots the relationship between latitude and wind speed. Based on the resulting scatterplot, most cities have wind speed under 20 mph. Two cities with latitudes of -20 have the highest wind speeds (~50 mph and ~40 mph).\")"
   ]
  },
  {
   "cell_type": "code",
   "execution_count": 51,
   "metadata": {},
   "outputs": [],
   "source": [
    "# Set up the linear regression formulas and scatterplots\n",
    "\n",
    "def plot_linear_regression(x_values, y_values, title, text_coordinates):\n",
    "    (slope, intercept, rvalue, pvalue, stderr) = linregress(x_values, y_values)\n",
    "    regress_values = x_values * slope + intercept\n",
    "    \n",
    "    plt.scatter(x_values,y_values, color='pink')\n",
    "    plt.plot(x_values,regress_values,\"r-\")\n",
    "    plt.xlabel(\"Latitude\")\n",
    "    plt.ylabel(title)\n",
    "    print(f\"The r-squared is: {rvalue}\")\n",
    "    plt.show()"
   ]
  },
  {
   "cell_type": "code",
   "execution_count": 52,
   "metadata": {},
   "outputs": [
    {
     "data": {
      "text/html": [
       "<div>\n",
       "<style scoped>\n",
       "    .dataframe tbody tr th:only-of-type {\n",
       "        vertical-align: middle;\n",
       "    }\n",
       "\n",
       "    .dataframe tbody tr th {\n",
       "        vertical-align: top;\n",
       "    }\n",
       "\n",
       "    .dataframe thead th {\n",
       "        text-align: right;\n",
       "    }\n",
       "</style>\n",
       "<table border=\"1\" class=\"dataframe\">\n",
       "  <thead>\n",
       "    <tr style=\"text-align: right;\">\n",
       "      <th></th>\n",
       "      <th>City</th>\n",
       "      <th>Latitude</th>\n",
       "      <th>Longitude</th>\n",
       "      <th>Max Temp</th>\n",
       "      <th>Humidity</th>\n",
       "      <th>Cloudiness</th>\n",
       "      <th>Wind Speed</th>\n",
       "      <th>Country</th>\n",
       "      <th>Date</th>\n",
       "    </tr>\n",
       "  </thead>\n",
       "  <tbody>\n",
       "    <tr>\n",
       "      <th>1</th>\n",
       "      <td>Butaritari</td>\n",
       "      <td>3.0707</td>\n",
       "      <td>172.7902</td>\n",
       "      <td>83.88</td>\n",
       "      <td>74</td>\n",
       "      <td>0</td>\n",
       "      <td>11.79</td>\n",
       "      <td>KI</td>\n",
       "      <td>1584241200</td>\n",
       "    </tr>\n",
       "    <tr>\n",
       "      <th>2</th>\n",
       "      <td>Praia</td>\n",
       "      <td>14.9215</td>\n",
       "      <td>-23.5087</td>\n",
       "      <td>71.62</td>\n",
       "      <td>79</td>\n",
       "      <td>0</td>\n",
       "      <td>11.50</td>\n",
       "      <td>CV</td>\n",
       "      <td>1584241200</td>\n",
       "    </tr>\n",
       "    <tr>\n",
       "      <th>3</th>\n",
       "      <td>Puerto del Rosario</td>\n",
       "      <td>28.5004</td>\n",
       "      <td>-13.8627</td>\n",
       "      <td>58.62</td>\n",
       "      <td>77</td>\n",
       "      <td>0</td>\n",
       "      <td>10.40</td>\n",
       "      <td>ES</td>\n",
       "      <td>1584241200</td>\n",
       "    </tr>\n",
       "    <tr>\n",
       "      <th>5</th>\n",
       "      <td>Bozeman</td>\n",
       "      <td>45.6796</td>\n",
       "      <td>-111.0386</td>\n",
       "      <td>15.39</td>\n",
       "      <td>92</td>\n",
       "      <td>100</td>\n",
       "      <td>1.79</td>\n",
       "      <td>US</td>\n",
       "      <td>1584241200</td>\n",
       "    </tr>\n",
       "    <tr>\n",
       "      <th>6</th>\n",
       "      <td>Tasiilaq</td>\n",
       "      <td>65.6145</td>\n",
       "      <td>-37.6368</td>\n",
       "      <td>-3.44</td>\n",
       "      <td>74</td>\n",
       "      <td>2</td>\n",
       "      <td>2.64</td>\n",
       "      <td>GL</td>\n",
       "      <td>1584241200</td>\n",
       "    </tr>\n",
       "  </tbody>\n",
       "</table>\n",
       "</div>"
      ],
      "text/plain": [
       "                 City  Latitude  Longitude  Max Temp  Humidity  Cloudiness  \\\n",
       "1          Butaritari    3.0707   172.7902     83.88        74           0   \n",
       "2               Praia   14.9215   -23.5087     71.62        79           0   \n",
       "3  Puerto del Rosario   28.5004   -13.8627     58.62        77           0   \n",
       "5             Bozeman   45.6796  -111.0386     15.39        92         100   \n",
       "6            Tasiilaq   65.6145   -37.6368     -3.44        74           2   \n",
       "\n",
       "   Wind Speed Country        Date  \n",
       "1       11.79      KI  1584241200  \n",
       "2       11.50      CV  1584241200  \n",
       "3       10.40      ES  1584241200  \n",
       "5        1.79      US  1584241200  \n",
       "6        2.64      GL  1584241200  "
      ]
     },
     "execution_count": 52,
     "metadata": {},
     "output_type": "execute_result"
    }
   ],
   "source": [
    "# Set up the northern and southern hemisphere dataframes\n",
    "\n",
    "northlat_df = weather_data.loc[weather_data[\"Latitude\"] >= 0,:]\n",
    "southlat_df = weather_data.loc[weather_data[\"Latitude\"] < 0,:]\n",
    "\n",
    "northlat_df.head()"
   ]
  },
  {
   "cell_type": "code",
   "execution_count": 53,
   "metadata": {},
   "outputs": [
    {
     "name": "stdout",
     "output_type": "stream",
     "text": [
      "The r-squared is: -0.8984913839689989\n"
     ]
    },
    {
     "data": {
      "image/png": "[encoded data removed]",
      "text/plain": [
       "<Figure size 432x288 with 1 Axes>"
      ]
     },
     "metadata": {
      "needs_background": "light"
     },
     "output_type": "display_data"
    },
    {
     "name": "stdout",
     "output_type": "stream",
     "text": [
      "The r value indicates a strong negative correlation between latitude and max temperature. In the northern hemisphere, as latitude increases, max temperature decreases.\n"
     ]
    },
    {
     "data": {
      "text/plain": [
       "<Figure size 432x288 with 0 Axes>"
      ]
     },
     "metadata": {},
     "output_type": "display_data"
    }
   ],
   "source": [
    "# Northern Hemisphere - Max Temp vs. Latitude Linear Regression\n",
    "\n",
    "x_values = northlat_df[\"Latitude\"]\n",
    "y_values = northlat_df[\"Max Temp\"]\n",
    "plt.title(f'Northern Hemisphere - Max Temp vs. Latitude ({datetime.datetime.now().strftime(\"%D\")})')\n",
    "plot_linear_regression(x_values,y_values,'Max Temp', (6,30))\n",
    "\n",
    "print(\"The r value indicates a strong negative correlation between latitude and max temperature. In the northern hemisphere, as latitude increases, max temperature decreases.\")\n",
    "\n",
    "plt.savefig('NH Max Temp vs Latitude')"
   ]
  },
  {
   "cell_type": "code",
   "execution_count": 54,
   "metadata": {},
   "outputs": [
    {
     "name": "stdout",
     "output_type": "stream",
     "text": [
      "The r-squared is: 0.5818830685586394\n"
     ]
    },
    {
     "data": {
      "image/png": "[encoded data removed]",
      "text/plain": [
       "<Figure size 432x288 with 1 Axes>"
      ]
     },
     "metadata": {
      "needs_background": "light"
     },
     "output_type": "display_data"
    },
    {
     "name": "stdout",
     "output_type": "stream",
     "text": [
      "The r value indicates a medium positive correlation between latitude and max temperature. In the southern hemisphere, as latitude increases, max temperature increases.\n"
     ]
    },
    {
     "data": {
      "text/plain": [
       "<Figure size 432x288 with 0 Axes>"
      ]
     },
     "metadata": {},
     "output_type": "display_data"
    }
   ],
   "source": [
    "# Southern Hemisphere - Max Temp vs. Latitude Linear Regression\n",
    "\n",
    "x_values = southlat_df[\"Latitude\"]\n",
    "y_values = southlat_df[\"Max Temp\"]\n",
    "plt.title(f'Southern Hemisphere - Max Temp vs. Latitude ({datetime.datetime.now().strftime(\"%D\")})')\n",
    "plot_linear_regression(x_values,y_values,'Max Temp',(6,30))\n",
    "\n",
    "print(\"The r value indicates a medium positive correlation between latitude and max temperature. In the southern hemisphere, as latitude increases, max temperature increases.\")\n",
    "\n",
    "plt.savefig('SH Max Temp vs Latitude')"
   ]
  },
  {
   "cell_type": "code",
   "execution_count": 55,
   "metadata": {},
   "outputs": [
    {
     "name": "stdout",
     "output_type": "stream",
     "text": [
      "The r-squared is: 0.38153158872812426\n"
     ]
    },
    {
     "data": {
      "image/png": "[encoded data removed]",
      "text/plain": [
       "<Figure size 432x288 with 1 Axes>"
      ]
     },
     "metadata": {
      "needs_background": "light"
     },
     "output_type": "display_data"
    },
    {
     "name": "stdout",
     "output_type": "stream",
     "text": [
      "The r value indicates a low positive correlation between latitude and humidity. In the northern hemisphere, as latitude increases, humidity increases.\n"
     ]
    },
    {
     "data": {
      "text/plain": [
       "<Figure size 432x288 with 0 Axes>"
      ]
     },
     "metadata": {},
     "output_type": "display_data"
    }
   ],
   "source": [
    "# Northern Hemisphere - Humidity (%) vs. Latitude Linear Regression\n",
    "\n",
    "x_values = northlat_df[\"Latitude\"]\n",
    "y_values = northlat_df[\"Humidity\"]\n",
    "plt.title(f'Northern Hemisphere - Humidity vs. Latitude ({datetime.datetime.now().strftime(\"%D\")})')\n",
    "plot_linear_regression(x_values,y_values,'Humidity',(6,30))\n",
    "\n",
    "print(\"The r value indicates a low positive correlation between latitude and humidity. In the northern hemisphere, as latitude increases, humidity increases.\")\n",
    "\n",
    "plt.savefig('NH Humidity vs Latitude')"
   ]
  },
  {
   "cell_type": "code",
   "execution_count": 56,
   "metadata": {},
   "outputs": [
    {
     "name": "stdout",
     "output_type": "stream",
     "text": [
      "The r-squared is: 0.27048606433601685\n"
     ]
    },
    {
     "data": {
      "image/png": "[encoded data removed]",
      "text/plain": [
       "<Figure size 432x288 with 1 Axes>"
      ]
     },
     "metadata": {
      "needs_background": "light"
     },
     "output_type": "display_data"
    },
    {
     "name": "stdout",
     "output_type": "stream",
     "text": [
      "The r value indicates a low positive correlation between latitude and humidity. In the southern hemisphere, as latitude increases, humidity increases.\n"
     ]
    },
    {
     "data": {
      "text/plain": [
       "<Figure size 432x288 with 0 Axes>"
      ]
     },
     "metadata": {},
     "output_type": "display_data"
    }
   ],
   "source": [
    "# Southern Hemisphere - Humidity (%) vs. Latitude Linear Regression\n",
    "\n",
    "x_values = southlat_df[\"Latitude\"]\n",
    "y_values = southlat_df[\"Humidity\"]\n",
    "plt.title(f'Southern Hemisphere - Humidity vs. Latitude ({datetime.datetime.now().strftime(\"%D\")})')\n",
    "plot_linear_regression(x_values,y_values,'Humidity',(6,30))\n",
    "\n",
    "print(\"The r value indicates a low positive correlation between latitude and humidity. In the southern hemisphere, as latitude increases, humidity increases.\")\n",
    "\n",
    "plt.savefig('SH Humidity vs Latitude')"
   ]
  },
  {
   "cell_type": "code",
   "execution_count": 57,
   "metadata": {},
   "outputs": [
    {
     "name": "stdout",
     "output_type": "stream",
     "text": [
      "The r-squared is: 0.22408842327226686\n"
     ]
    },
    {
     "data": {
      "image/png": "[encoded data removed]",
      "text/plain": [
       "<Figure size 432x288 with 1 Axes>"
      ]
     },
     "metadata": {
      "needs_background": "light"
     },
     "output_type": "display_data"
    },
    {
     "name": "stdout",
     "output_type": "stream",
     "text": [
      "The r value indicates a low positive correlation between latitude and cloudiness. In the northern hemisphere, as latitude increases, cloudiness increases.\n"
     ]
    },
    {
     "data": {
      "text/plain": [
       "<Figure size 432x288 with 0 Axes>"
      ]
     },
     "metadata": {},
     "output_type": "display_data"
    }
   ],
   "source": [
    "# Northern Hemisphere - Cloudiness (%) vs. Latitude Linear Regression\n",
    "\n",
    "x_values = northlat_df[\"Latitude\"]\n",
    "y_values = northlat_df[\"Cloudiness\"]\n",
    "plt.title(f'Northern Hemisphere - Cloudiness vs. Latitude ({datetime.datetime.now().strftime(\"%D\")})')\n",
    "plot_linear_regression(x_values,y_values,'Cloudiness',(6,30))\n",
    "\n",
    "print(\"The r value indicates a low positive correlation between latitude and cloudiness. In the northern hemisphere, as latitude increases, cloudiness increases.\")\n",
    "\n",
    "plt.savefig('NH Cloudiness (%) vs Latitude')"
   ]
  },
  {
   "cell_type": "code",
   "execution_count": 58,
   "metadata": {},
   "outputs": [
    {
     "name": "stdout",
     "output_type": "stream",
     "text": [
      "The r-squared is: 0.26155573593487463\n"
     ]
    },
    {
     "data": {
      "image/png": "[encoded data removed]",
      "text/plain": [
       "<Figure size 432x288 with 1 Axes>"
      ]
     },
     "metadata": {
      "needs_background": "light"
     },
     "output_type": "display_data"
    },
    {
     "name": "stdout",
     "output_type": "stream",
     "text": [
      "The r value indicates a low positive correlation between latitude and cloudiness. In the southern hemisphere, as latitude increases, cloudiness increases.\n"
     ]
    },
    {
     "data": {
      "text/plain": [
       "<Figure size 432x288 with 0 Axes>"
      ]
     },
     "metadata": {},
     "output_type": "display_data"
    }
   ],
   "source": [
    "# Southern Hemisphere - Cloudiness (%) vs. Latitude Linear Regression\n",
    "\n",
    "x_values = southlat_df[\"Latitude\"]\n",
    "y_values = southlat_df[\"Cloudiness\"]\n",
    "plt.title(f'Southern Hemisphere - Cloudiness vs. Latitude ({datetime.datetime.now().strftime(\"%D\")})')\n",
    "plot_linear_regression(x_values,y_values,'Cloudiness',(6,30))\n",
    "\n",
    "print(\"The r value indicates a low positive correlation between latitude and cloudiness. In the southern hemisphere, as latitude increases, cloudiness increases.\")\n",
    "\n",
    "plt.savefig('SH Cloudiness (%) vs Latitude')"
   ]
  },
  {
   "cell_type": "code",
   "execution_count": 59,
   "metadata": {},
   "outputs": [
    {
     "name": "stdout",
     "output_type": "stream",
     "text": [
      "The r-squared is: 0.14583364653162031\n"
     ]
    },
    {
     "data": {
      "image/png": "[encoded data removed]",
      "text/plain": [
       "<Figure size 432x288 with 1 Axes>"
      ]
     },
     "metadata": {
      "needs_background": "light"
     },
     "output_type": "display_data"
    },
    {
     "name": "stdout",
     "output_type": "stream",
     "text": [
      "The r value indicates a low positive correlation between latitude and wind speed. In the northern hemisphere, as latitude increases, wind speed increases.\n"
     ]
    },
    {
     "data": {
      "text/plain": [
       "<Figure size 432x288 with 0 Axes>"
      ]
     },
     "metadata": {},
     "output_type": "display_data"
    }
   ],
   "source": [
    "# Northern Hemisphere - Wind Speed (mph) vs. Latitude Linear Regression\n",
    "\n",
    "x_values = northlat_df[\"Latitude\"]\n",
    "y_values = northlat_df[\"Wind Speed\"]\n",
    "plt.title(f'Northern Hemisphere - Wind Speed vs. Latitude ({datetime.datetime.now().strftime(\"%D\")})')\n",
    "plot_linear_regression(x_values,y_values,'Wind Speed',(6,30))\n",
    "\n",
    "print(\"The r value indicates a low positive correlation between latitude and wind speed. In the northern hemisphere, as latitude increases, wind speed increases.\")\n",
    "\n",
    "plt.savefig('NH Wind Speed (mph) vs Latitude')"
   ]
  },
  {
   "cell_type": "code",
   "execution_count": 60,
   "metadata": {},
   "outputs": [
    {
     "name": "stdout",
     "output_type": "stream",
     "text": [
      "The r-squared is: -0.24770121415707383\n"
     ]
    },
    {
     "data": {
      "image/png": "[encoded data removed]",
      "text/plain": [
       "<Figure size 432x288 with 1 Axes>"
      ]
     },
     "metadata": {
      "needs_background": "light"
     },
     "output_type": "display_data"
    },
    {
     "name": "stdout",
     "output_type": "stream",
     "text": [
      "The r value indicates a low negative correlation between latitude and wind speed. In the southern hemisphere, as latitude increases, wind speed decreases.\n"
     ]
    },
    {
     "data": {
      "text/plain": [
       "<Figure size 432x288 with 0 Axes>"
      ]
     },
     "metadata": {},
     "output_type": "display_data"
    }
   ],
   "source": [
    "# Southern Hemisphere - Wind Speed (mph) vs. Latitude Linear Regression\n",
    "\n",
    "x_values = southlat_df[\"Latitude\"]\n",
    "y_values = southlat_df[\"Wind Speed\"]\n",
    "plt.title(f'Southern Hemisphere - Wind Speed vs. Latitude ({datetime.datetime.now().strftime(\"%D\")})')\n",
    "plot_linear_regression(x_values,y_values,'Wind Speed',(6,30))\n",
    "\n",
    "print(\"The r value indicates a low negative correlation between latitude and wind speed. In the southern hemisphere, as latitude increases, wind speed decreases.\")\n",
    "\n",
    "plt.savefig('SH Wind Speed (mph) vs Latitude')"
   ]
  },
  {
   "cell_type": "code",
   "execution_count": null,
   "metadata": {},
   "outputs": [],
   "source": []
  }
 ],
 "metadata": {
  "kernelspec": {
   "display_name": "Python 3",
   "language": "python",
   "name": "python3"
  },
  "language_info": {
   "codemirror_mode": {
    "name": "ipython",
    "version": 3
   },
   "file_extension": ".py",
   "mimetype": "text/x-python",
   "name": "python",
   "nbconvert_exporter": "python",
   "pygments_lexer": "ipython3",
   "version": "3.7.6"
  }
 },
 "nbformat": 4,
 "nbformat_minor": 4
}
